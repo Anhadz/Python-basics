{
 "cells": [
  {
   "cell_type": "markdown",
   "metadata": {},
   "source": [
    "PROGRAM 1: Hello World\n",
    "* LEARNING : How to print and run python program"
   ]
  },
  {
   "cell_type": "code",
   "execution_count": 1,
   "metadata": {
    "collapsed": false
   },
   "outputs": [
    {
     "name": "stdout",
     "output_type": "stream",
     "text": [
      "Hello World\n"
     ]
    }
   ],
   "source": [
    "print (\"Hello World\")"
   ]
  },
  {
   "cell_type": "code",
   "execution_count": 2,
   "metadata": {
    "collapsed": true
   },
   "outputs": [],
   "source": [
    "# PROGRAM 2: Add numbers and Concatinate strings\n",
    "# LEARNING : How to delclare variable, add and print result"
   ]
  },
  {
   "cell_type": "code",
   "execution_count": 3,
   "metadata": {
    "collapsed": false
   },
   "outputs": [
    {
     "name": "stdout",
     "output_type": "stream",
     "text": [
      "10  +  220  -->  230\n"
     ]
    }
   ],
   "source": [
    "#------------------------------------------------------------------------\n",
    "# Example 2.1: Add two numbers\n",
    "#------------------------------------------------------------------------\n",
    "a = 10\t\t\t\t\n",
    "b = 220\n",
    "c = a + b       # Add two numbers\n",
    "print (a, \" + \", b, \" --> \", c)\n"
   ]
  },
  {
   "cell_type": "code",
   "execution_count": 4,
   "metadata": {
    "collapsed": false
   },
   "outputs": [
    {
     "name": "stdout",
     "output_type": "stream",
     "text": [
      "Bhagat  +   Singh  -->  Bhagat Singh\n"
     ]
    }
   ],
   "source": [
    "#------------------------------------------------------------------------\n",
    "# Example 2.2: Concatinate two strings\n",
    "#------------------------------------------------------------------------\n",
    "a = \"Bhagat\"\n",
    "b = \" Singh\"\n",
    "c = a + b\t\t# Concatinate two strings\n",
    "print (a, \" + \", b, \" --> \", c)\n",
    "\n"
   ]
  },
  {
   "cell_type": "code",
   "execution_count": 5,
   "metadata": {
    "collapsed": true
   },
   "outputs": [],
   "source": [
    "# PROGRAM 3: Input from user\n",
    "# LEARNING : How to take input from user\n",
    "# NOTE     : input() function is used to take integer as input."
   ]
  },
  {
   "cell_type": "code",
   "execution_count": 6,
   "metadata": {
    "collapsed": false
   },
   "outputs": [
    {
     "name": "stdout",
     "output_type": "stream",
     "text": [
      "Enter First No: 10\n",
      "Enter Second No: 11\n",
      "10  +  11  -->  21\n"
     ]
    }
   ],
   "source": [
    "#------------------------------------------------------------------------\n",
    "# Example 3.1: Input two numbers from user and add them\n",
    "#------------------------------------------------------------------------\n",
    "a = int(input(\"Enter First No: \"))\n",
    "b = int(input(\"Enter Second No: \"))\n",
    "c = a + b\n",
    "print (a, \" + \", b, \" --> \", c)"
   ]
  },
  {
   "cell_type": "code",
   "execution_count": 7,
   "metadata": {
    "collapsed": false
   },
   "outputs": [
    {
     "name": "stdout",
     "output_type": "stream",
     "text": [
      "Enter First String: 11\n",
      "Enter Second String: 2\n",
      "11  +  2  -->  112\n"
     ]
    }
   ],
   "source": [
    "#------------------------------------------------------------------------\n",
    "# Example 3.2: Input two strings from user and concatinate them\n",
    "#------------------------------------------------------------------------\n",
    "a = input(\"Enter First String: \")\n",
    "b = input(\"Enter Second String: \")\n",
    "c = a + b\t\t# concatinate two strings\n",
    "print  (a, \" + \", b, \" --> \", c)\n"
   ]
  },
  {
   "cell_type": "code",
   "execution_count": 8,
   "metadata": {
    "collapsed": true
   },
   "outputs": [],
   "source": [
    "# PROGRAM 4: Loops\n",
    "# LEARNING : Loop, increment, decrement"
   ]
  },
  {
   "cell_type": "code",
   "execution_count": 9,
   "metadata": {
    "collapsed": false
   },
   "outputs": [
    {
     "name": "stdout",
     "output_type": "stream",
     "text": [
      "1\n",
      "2\n",
      "3\n",
      "4\n",
      "5\n",
      "6\n",
      "7\n",
      "8\n",
      "9\n",
      "10\n"
     ]
    }
   ],
   "source": [
    "#------------------------------------------------------------------------\n",
    "# Example 4.1: While Loop\n",
    "#------------------------------------------------------------------------\n",
    "i=1\n",
    "while i <= 10:\n",
    "\tprint (i)\n",
    "\ti=i+1"
   ]
  },
  {
   "cell_type": "code",
   "execution_count": 10,
   "metadata": {
    "collapsed": false
   },
   "outputs": [
    {
     "name": "stdout",
     "output_type": "stream",
     "text": [
      "range(10) -->  [0, 1, 2, 3, 4, 5, 6, 7, 8, 9]\n",
      "range(0,20) -->  [0, 1, 2, 3, 4, 5, 6, 7, 8, 9, 10, 11, 12, 13, 14, 15, 16, 17, 18, 19]\n",
      "range(10,20) -->  [10, 11, 12, 13, 14, 15, 16, 17, 18, 19]\n",
      "range(0,20,2) -->  [0, 2, 4, 6, 8, 10, 12, 14, 16, 18]\n",
      "range(-10,-20,2) -->  []\n",
      "range(-10,-20,-2) -->  [-10, -12, -14, -16, -18]\n"
     ]
    }
   ],
   "source": [
    "#------------------------------------------------------------------------\n",
    "# Example 4.2: Range Function\n",
    "#------------------------------------------------------------------------\n",
    "print (\"range(10) --> \", list(range(10)))\n",
    "print (\"range(0,20) --> \", list(range(0,20)))\n",
    "print (\"range(10,20) --> \", list(range(10,20)))\n",
    "print (\"range(0,20,2) --> \", list(range(0,20,2)))\n",
    "print (\"range(-10,-20,2) --> \", list(range(-10,-20,2)))\n",
    "print (\"range(-10,-20,-2) --> \", list(range(-10,-20,-2)))"
   ]
  },
  {
   "cell_type": "code",
   "execution_count": 11,
   "metadata": {
    "collapsed": false
   },
   "outputs": [
    {
     "name": "stdout",
     "output_type": "stream",
     "text": [
      "0\n",
      "1\n",
      "2\n",
      "3\n",
      "4\n",
      "5\n",
      "6\n",
      "7\n",
      "8\n",
      "9\n"
     ]
    }
   ],
   "source": [
    "#------------------------------------------------------------------------\n",
    "# Example 4.3: For loop\n",
    "#------------------------------------------------------------------------\n",
    "for i in range(0,10):\n",
    "\tprint (i)\n"
   ]
  },
  {
   "cell_type": "code",
   "execution_count": 12,
   "metadata": {
    "collapsed": false
   },
   "outputs": [
    {
     "name": "stdout",
     "output_type": "stream",
     "text": [
      "0\n",
      "2\n",
      "4\n",
      "6\n",
      "8\n",
      "10\n",
      "12\n",
      "14\n",
      "16\n",
      "18\n"
     ]
    }
   ],
   "source": [
    "#------------------------------------------------------------------------\n",
    "# Example 4.4: For loop\n",
    "#------------------------------------------------------------------------\n",
    "for i in range(0,20,2):\n",
    "\tprint (i)"
   ]
  },
  {
   "cell_type": "code",
   "execution_count": 13,
   "metadata": {
    "collapsed": false
   },
   "outputs": [
    {
     "name": "stdout",
     "output_type": "stream",
     "text": [
      "0\n",
      "-1\n",
      "-2\n",
      "-3\n",
      "-4\n",
      "-5\n",
      "-6\n",
      "-7\n",
      "-8\n",
      "-9\n"
     ]
    }
   ],
   "source": [
    "#------------------------------------------------------------------------\n",
    "# Example 4.5: For loop\n",
    "#------------------------------------------------------------------------\n",
    "for i in range(0,-10,-1):\n",
    "\tprint (i)\n"
   ]
  },
  {
   "cell_type": "code",
   "execution_count": 14,
   "metadata": {
    "collapsed": false
   },
   "outputs": [
    {
     "name": "stdout",
     "output_type": "stream",
     "text": [
      "5  *  1  =  5\n",
      "5  *  2  =  10\n",
      "5  *  3  =  15\n",
      "5  *  4  =  20\n",
      "5  *  5  =  25\n",
      "5  *  6  =  30\n",
      "5  *  7  =  35\n",
      "5  *  8  =  40\n",
      "5  *  9  =  45\n",
      "5  *  10  =  50\n"
     ]
    }
   ],
   "source": [
    "#------------------------------------------------------------------------\n",
    "# Example 4.6: Print table of 5\n",
    "#------------------------------------------------------------------------\n",
    "for i in range(1,11):\n",
    "\tprint (5,\" * \", i , \" = \", i * 5)\n"
   ]
  },
  {
   "cell_type": "code",
   "execution_count": 15,
   "metadata": {
    "collapsed": false
   },
   "outputs": [
    {
     "name": "stdout",
     "output_type": "stream",
     "text": [
      "Sum is -->  55\n"
     ]
    }
   ],
   "source": [
    "#------------------------------------------------------------------------\n",
    "# Example 4.7: Sum all numbers from 1 to 10\n",
    "#------------------------------------------------------------------------\n",
    "s=0\n",
    "for i in range(1,11):\n",
    "\ts=s+i\n",
    "print (\"Sum is --> \",s)"
   ]
  },
  {
   "cell_type": "code",
   "execution_count": 16,
   "metadata": {
    "collapsed": false
   },
   "outputs": [
    {
     "name": "stdout",
     "output_type": "stream",
     "text": [
      "Sum is -->  55\n"
     ]
    }
   ],
   "source": [
    "#------------------------------------------------------------------------\n",
    "# Example 4.8: Sum all numbers from 1 to 10\n",
    "#------------------------------------------------------------------------\n",
    "print (\"Sum is --> \", sum(range(1,11)))\n",
    "\n"
   ]
  },
  {
   "cell_type": "code",
   "execution_count": 17,
   "metadata": {
    "collapsed": true
   },
   "outputs": [],
   "source": [
    "# PROGRAM 5: If-Else - Conditional Checking\n",
    "# LEARNING : if-else Condition"
   ]
  },
  {
   "cell_type": "code",
   "execution_count": 18,
   "metadata": {
    "collapsed": false
   },
   "outputs": [
    {
     "name": "stdout",
     "output_type": "stream",
     "text": [
      "Enter First No: 11\n",
      "Enter Second No: 2\n",
      "11  >  2\n"
     ]
    }
   ],
   "source": [
    "#------------------------------------------------------------------------\n",
    "# Example 5.1: Input two numbers from user and compare them\n",
    "#------------------------------------------------------------------------\n",
    "a = int(input(\"Enter First No: \"))\n",
    "b = int(input(\"Enter Second No: \"))\n",
    "if  a > b: \n",
    "\tprint (a,\" > \",b)\n",
    "else:\n",
    "\tprint (a,\" < \",b)"
   ]
  },
  {
   "cell_type": "code",
   "execution_count": 19,
   "metadata": {
    "collapsed": false
   },
   "outputs": [
    {
     "name": "stdout",
     "output_type": "stream",
     "text": [
      "Enter a No: 12\n",
      "12  is even\n"
     ]
    }
   ],
   "source": [
    "#------------------------------------------------------------------------\t\n",
    "# Example 5.2: Check weather a number is odd or even:\n",
    "#------------------------------------------------------------------------\n",
    "n = int(input(\"Enter a No: \"))\n",
    "if  n % 2 == 0: \n",
    "\tprint (n,\" is even\")\n",
    "else:\n",
    "\tprint (n,\" is odd\")"
   ]
  },
  {
   "cell_type": "code",
   "execution_count": 20,
   "metadata": {
    "collapsed": false
   },
   "outputs": [
    {
     "name": "stdout",
     "output_type": "stream",
     "text": [
      "Enter a No: 11\n",
      "Prime\n"
     ]
    }
   ],
   "source": [
    "#------------------------------------------------------------------------\n",
    "# Example 5.3: Check weather a number is prime of not:\n",
    "#------------------------------------------------------------------------\n",
    "n = int(input(\"Enter a No: \"))\n",
    "f=0\n",
    "for i in range(2, int(n/2) + 1):\n",
    "\tif  n % i == 0: \n",
    "\t\tf=1\n",
    "\t\tbreak\n",
    "\n",
    "if f==0:\n",
    "\tprint (\"Prime\")\n",
    "else:\n",
    "\tprint (\"Not Prime\")"
   ]
  },
  {
   "cell_type": "code",
   "execution_count": 21,
   "metadata": {
    "collapsed": false
   },
   "outputs": [
    {
     "name": "stdout",
     "output_type": "stream",
     "text": [
      "Enter First String: abhi\n",
      "Enter Second String: Thakur\n",
      "a > b\n"
     ]
    }
   ],
   "source": [
    "#------------------------------------------------------------------------\n",
    "# Example 5.4: Conditional Checking - Compare strings\n",
    "#------------------------------------------------------------------------\n",
    "a = input(\"Enter First String: \")\n",
    "b = input(\"Enter Second String: \")\n",
    "\n",
    "if a == b: \n",
    "\tprint (\"a == b\")\n",
    "elif a >= b: \n",
    "\tprint (\"a > b\")\n",
    "else:\n",
    "\tprint (\"a < b\")"
   ]
  },
  {
   "cell_type": "code",
   "execution_count": 22,
   "metadata": {
    "collapsed": true
   },
   "outputs": [],
   "source": [
    "# PROGRAM 6: Functions\n",
    "# LEARNING : How to declare and call"
   ]
  },
  {
   "cell_type": "code",
   "execution_count": 23,
   "metadata": {
    "collapsed": false
   },
   "outputs": [
    {
     "name": "stdout",
     "output_type": "stream",
     "text": [
      "Add(10,20) --> 30\n",
      "Add(20,50) --> 70\n",
      "Add(80,200) --> 280\n"
     ]
    }
   ],
   "source": [
    "#------------------------------------------------------------------------\n",
    "# Example 6.1: Add two numbers\n",
    "#------------------------------------------------------------------------\n",
    "def Add(a,b):\n",
    "\tc=a+b\n",
    "\treturn c\n",
    "\n",
    "print (\"Add(10,20) -->\", Add(10,20))\n",
    "print (\"Add(20,50) -->\", Add(20,50)) \n",
    "print (\"Add(80,200) -->\", Add(80,200)) \n"
   ]
  },
  {
   "cell_type": "code",
   "execution_count": 24,
   "metadata": {
    "collapsed": false
   },
   "outputs": [
    {
     "name": "stdout",
     "output_type": "stream",
     "text": [
      "IsPrime(20) -->  0\n",
      "IsPrime(23) -->  1\n",
      "IsPrime(200) -->  0\n",
      "IsPrime(37) -->  1\n"
     ]
    }
   ],
   "source": [
    "#------------------------------------------------------------------------\n",
    "# Example 6.2: Prime number\n",
    "#------------------------------------------------------------------------\n",
    "def IsPrime(n):\n",
    "\tfor i in range(2,int(n/2)+1):\n",
    "\t\tif n%i==0:\n",
    "\t\t\treturn 0\n",
    "\treturn 1\n",
    "\n",
    "print (\"IsPrime(20) --> \", IsPrime(20))\n",
    "print (\"IsPrime(23) --> \", IsPrime(23))\n",
    "print (\"IsPrime(200) --> \", IsPrime(200))\n",
    "print (\"IsPrime(37) --> \", IsPrime(37))"
   ]
  },
  {
   "cell_type": "code",
   "execution_count": 25,
   "metadata": {
    "collapsed": false
   },
   "outputs": [
    {
     "name": "stdout",
     "output_type": "stream",
     "text": [
      "AddN(10) -->  55\n",
      "AddN(20) -->  210\n",
      "AddN(50) -->  1275\n",
      "AddN(200) -->  20100\n"
     ]
    }
   ],
   "source": [
    "#------------------------------------------------------------------------\n",
    "# Example 6.3: Add 1 to n\n",
    "#------------------------------------------------------------------------\n",
    "def AddN(n):\n",
    "\ts= sum(range(n+1))\n",
    "\treturn s\n",
    "\n",
    "print (\"AddN(10) --> \", AddN(10))\n",
    "print (\"AddN(20) --> \", AddN(20))\n",
    "print (\"AddN(50) --> \", AddN(50))\n",
    "print (\"AddN(200) --> \", AddN(200))"
   ]
  },
  {
   "cell_type": "code",
   "execution_count": 26,
   "metadata": {
    "collapsed": true
   },
   "outputs": [],
   "source": [
    "# PROGRAM 7: Math library\n",
    "# LEARNING : Use math library"
   ]
  },
  {
   "cell_type": "code",
   "execution_count": 27,
   "metadata": {
    "collapsed": false
   },
   "outputs": [
    {
     "name": "stdout",
     "output_type": "stream",
     "text": [
      "exp(-200)    -->  1.3838965267367376e-87\n",
      "log(100,2)   -->  6.643856189774725\n",
      "log(100,10)  -->  2.0\n",
      "log10(100)   -->  2.0\n",
      "m.cos(30)    -->  0.15425144988758405\n",
      "m.sin(30)    -->  -0.9880316240928618\n",
      "m.tan(30)    -->  -6.405331196646276\n",
      "m.sqrt(324)  -->  18.0\n",
      "m.ceil(89.9) -->  90\n",
      "m.floor(89.9)-->  89\n"
     ]
    }
   ],
   "source": [
    "import math as m\n",
    "print (\"exp(-200)    --> \", m.exp(-200))  # Exponential function\n",
    "print (\"log(100,2)   --> \", m.log(100,2)) # Log\n",
    "print (\"log(100,10)  --> \", m.log(100,10))# Log\n",
    "print (\"log10(100)   --> \", m.log10(100)) # Log 10\n",
    "print (\"m.cos(30)    --> \", m.cos(30))    # cos\n",
    "print (\"m.sin(30)    --> \", m.sin(30))    # sin\n",
    "print (\"m.tan(30)    --> \", m.tan(30))    # tan\n",
    "print (\"m.sqrt(324)  --> \", m.sqrt(324))\n",
    "print (\"m.ceil(89.9) --> \", m.ceil(89.9))\n",
    "print (\"m.floor(89.9)--> \", m.floor(89.9))"
   ]
  },
  {
   "cell_type": "code",
   "execution_count": 28,
   "metadata": {
    "collapsed": true
   },
   "outputs": [],
   "source": [
    "# PROGRAM 8: Strings\n",
    "# LEARNING : How to handle string"
   ]
  },
  {
   "cell_type": "code",
   "execution_count": 29,
   "metadata": {
    "collapsed": false
   },
   "outputs": [
    {
     "name": "stdout",
     "output_type": "stream",
     "text": [
      "var1 -->  Hello World!\n",
      "var2 -->  Python Programming\n",
      "var1[0] -->  H\n",
      "var2[1:5] -->  ytho\n",
      "var2[:-5] -->  Python Progra\n"
     ]
    }
   ],
   "source": [
    "#------------------------------------------------------------------------\n",
    "# Example 8.1: Indexing in string\n",
    "#------------------------------------------------------------------------\n",
    "var1 = 'Hello World!'\n",
    "var2 = \"Python Programming\"\n",
    "print (\"var1 --> \", var1)\n",
    "print (\"var2 --> \",var2)\n",
    "print (\"var1[0] --> \", var1[0])\n",
    "print (\"var2[1:5] --> \", var2[1:5])\n",
    "print (\"var2[:-5] --> \", var2[:-5])"
   ]
  },
  {
   "cell_type": "code",
   "execution_count": 30,
   "metadata": {
    "collapsed": false
   },
   "outputs": [
    {
     "name": "stdout",
     "output_type": "stream",
     "text": [
      "var1 -->  Hello World!\n",
      "var2 -->  Python Programming\n",
      "\n",
      "length of var1 --> :  12\n",
      "length of var2 --> :  18\n",
      "\n",
      "Upper of var1 --> :  HELLO WORLD!\n",
      "Upper of var2 --> :  PYTHON PROGRAMMING\n",
      "\n",
      "Lower of var1 --> :  hello world!\n",
      "Lower of var2 --> :  python programming\n"
     ]
    }
   ],
   "source": [
    "#------------------------------------------------------------------------\n",
    "# Example 8.2: String length, upper, lower\n",
    "#------------------------------------------------------------------------\n",
    "var1 = 'Hello World!'\n",
    "var2 = \"Python Programming\"\n",
    "\n",
    "print (\"var1 --> \", var1)\n",
    "print (\"var2 --> \",var2)\n",
    "\n",
    "print (\"\\nlength of var1 --> : \", len(var1))\n",
    "print (\"length of var2 --> : \", len(var2))\n",
    "\n",
    "print (\"\\nUpper of var1 --> : \", var1.upper())\n",
    "print (\"Upper of var2 --> : \", var2.upper())\n",
    "\n",
    "print (\"\\nLower of var1 --> : \", var1.lower())\n",
    "print (\"Lower of var2 --> : \", var2.lower())"
   ]
  },
  {
   "cell_type": "code",
   "execution_count": 31,
   "metadata": {
    "collapsed": false
   },
   "outputs": [
    {
     "name": "stdout",
     "output_type": "stream",
     "text": [
      "Enter your name: Abhi\n",
      "Enter your age: 36\n",
      "Enter the book price: 2500\n",
      "Your name is ABHI, age is 36 and book price is 2500.000000\n"
     ]
    }
   ],
   "source": [
    "#------------------------------------------------------------------------\n",
    "# Example 8.3: String formatting\n",
    "#------------------------------------------------------------------------\n",
    "name=input(\"Enter your name: \")\n",
    "age=int(input(\"Enter your age: \"))\n",
    "price=float(input(\"Enter the book price: \"))\n",
    "s=\"Your name is %s, age is %d and book price is %f\" %(name.upper(),age,price)\n",
    "print (s)"
   ]
  },
  {
   "cell_type": "code",
   "execution_count": 32,
   "metadata": {
    "collapsed": false
   },
   "outputs": [
    {
     "name": "stdout",
     "output_type": "stream",
     "text": [
      "This is a long string that is made up of\n",
      "several lines and non-printable characters such as\n",
      "TAB ( \t ) and they will show up that way when displayed.\n",
      "NEWLINEs within the string, whether explicitly given like\n",
      "this within the brackets [ \n",
      " ], or just a NEWLINE within\n",
      "the variable assignment will also show up.\n",
      "\n"
     ]
    }
   ],
   "source": [
    "#------------------------------------------------------------------------\n",
    "# Example 8.4: String in Triple Quotes\n",
    "#------------------------------------------------------------------------\n",
    "para_str = \"\"\"This is a long string that is made up of\n",
    "several lines and non-printable characters such as\n",
    "TAB ( \\t ) and they will show up that way when displayed.\n",
    "NEWLINEs within the string, whether explicitly given like\n",
    "this within the brackets [ \\n ], or just a NEWLINE within\n",
    "the variable assignment will also show up.\n",
    "\"\"\"\n",
    "print (para_str)"
   ]
  },
  {
   "cell_type": "code",
   "execution_count": 33,
   "metadata": {
    "collapsed": false
   },
   "outputs": [
    {
     "name": "stdout",
     "output_type": "stream",
     "text": [
      "s1 -->   Indian Army     \t Length -->  16\n",
      "s1 strip -->  Indian Army \t Length -->  11\n",
      "\n",
      "s2 -->   Indian     Army     \t Length -->  20\n",
      "s2 strip -->  Indian     Army \t Length -->  15\n",
      "\n",
      "s3 -->  Indian, Army \t Length -->  12\n",
      "s3 strip -->  Indian, Army \t Length -->  12\n"
     ]
    }
   ],
   "source": [
    "#------------------------------------------------------------------------\n",
    "# Example 8.5: String strip\n",
    "#------------------------------------------------------------------------\n",
    "s1=\" Indian Army    \"\n",
    "s2=\" Indian     Army    \"\n",
    "s3=\"Indian, Army\"\n",
    "\n",
    "print (\"s1 --> \", s1, \"\\t Length --> \", len(s1))\n",
    "print (\"s1 strip --> \", s1.strip(), \"\\t Length --> \", len(s1.strip()))\n",
    "\n",
    "print (\"\\ns2 --> \", s2, \"\\t Length --> \", len(s2))\n",
    "print (\"s2 strip --> \", s2.strip(), \"\\t Length --> \", len(s2.strip()))\n",
    "\n",
    "print (\"\\ns3 --> \", s3, \"\\t Length --> \", len(s3))\n",
    "print (\"s3 strip --> \", s3.strip(), \"\\t Length --> \", len(s3.strip()))\n",
    "\n"
   ]
  },
  {
   "cell_type": "code",
   "execution_count": 34,
   "metadata": {
    "collapsed": false
   },
   "outputs": [
    {
     "name": "stdout",
     "output_type": "stream",
     "text": [
      "s1 -->   Indian Army    \n",
      "s1 split -->  ['Indian', 'Army']\n",
      "\n",
      "s2 -->   Indian     Army    \n",
      "s2 split -->  ['Indian', 'Army']\n",
      "s2 split with ' ' -->  ['', 'Indian', '', '', '', '', 'Army', '', '', '', '']\n",
      "\n",
      "s3 -->  Indian, Army\n",
      "s3 split -->  ['Indian,', 'Army']\n",
      "s3 split with ' ' -->  ['Indian', ' Army']\n"
     ]
    }
   ],
   "source": [
    "#------------------------------------------------------------------------\n",
    "# Example 8.6: String split\n",
    "#------------------------------------------------------------------------\n",
    "s1=\" Indian Army    \"\n",
    "s2=\" Indian     Army    \"\n",
    "s3=\"Indian, Army\"\n",
    "\n",
    "print (\"s1 --> \", s1)\n",
    "print (\"s1 split --> \", s1.split())\n",
    "\n",
    "print (\"\\ns2 --> \", s2)\n",
    "print (\"s2 split --> \", s2.split())\n",
    "print (\"s2 split with ' ' --> \", s2.split(' '))\n",
    "\n",
    "print (\"\\ns3 --> \", s3)\n",
    "print (\"s3 split --> \", s3.split())\n",
    "print (\"s3 split with ' ' --> \", s3.split(\",\"))\n",
    "\n"
   ]
  },
  {
   "cell_type": "code",
   "execution_count": 35,
   "metadata": {
    "collapsed": false
   },
   "outputs": [
    {
     "name": "stdout",
     "output_type": "stream",
     "text": [
      "s1 -->   Indian Army    \n",
      "s1 count ' ' -->  6\n",
      "s1 count 'a' -->  1\n",
      "s1 count 'n' -->  2\n"
     ]
    }
   ],
   "source": [
    "#------------------------------------------------------------------------\n",
    "# Example 8.7: Count in string \n",
    "#------------------------------------------------------------------------\n",
    "s1=\" Indian Army    \"\n",
    "print (\"s1 --> \", s1)\n",
    "print (\"s1 count ' ' --> \", s1.count(' '))\n",
    "print (\"s1 count 'a' --> \", s1.count('a'))\n",
    "print (\"s1 count 'n' --> \", s1.count('n'))"
   ]
  },
  {
   "cell_type": "code",
   "execution_count": 36,
   "metadata": {
    "collapsed": false
   },
   "outputs": [
    {
     "name": "stdout",
     "output_type": "stream",
     "text": [
      "s1 -->  Indian Army\n",
      "s1[::1] -->  Indian Army\n",
      "s1[::-1] -->  ymrA naidnI\n",
      "s1[::-2] -->  yr adI\n",
      "s1[::2] -->  Ida ry\n",
      "s1 after reverse -->  ymrA naidnI\n"
     ]
    }
   ],
   "source": [
    "#------------------------------------------------------------------------\n",
    "# Example 8.8: Reverse a String\n",
    "#------------------------------------------------------------------------\n",
    "s1=\"Indian Army\"\n",
    "print (\"s1 --> \", s1)\n",
    "print (\"s1[::1] --> \", s1[::1])\n",
    "print (\"s1[::-1] --> \", s1[::-1])\n",
    "print (\"s1[::-2] --> \", s1[::-2])\n",
    "print (\"s1[::2] --> \", s1[::2])\n",
    "s1=s1[::-1]\n",
    "print (\"s1 after reverse --> \", s1)"
   ]
  },
  {
   "cell_type": "code",
   "execution_count": 37,
   "metadata": {
    "collapsed": false
   },
   "outputs": [
    {
     "name": "stdout",
     "output_type": "stream",
     "text": [
      "s1 -->  False\n",
      "s2 -->  True\n",
      "s3 -->  True\n",
      "s4 -->  False\n"
     ]
    }
   ],
   "source": [
    "#------------------------------------------------------------------------\n",
    "# Example 8.9: Palindrome \n",
    "#------------------------------------------------------------------------\n",
    "s1=\"Indian Army\"\n",
    "s2=\"malayalam\"\n",
    "s3=\"madam\"\n",
    "s4=\"teacher\"\n",
    "print (\"s1 --> \", s1==s1[::-1])\n",
    "print (\"s2 --> \", s2==s2[::-1])\n",
    "print (\"s3 --> \", s3==s3[::-1])\n",
    "print (\"s4 --> \", s4==s4[::-1])\n"
   ]
  },
  {
   "cell_type": "code",
   "execution_count": 38,
   "metadata": {
    "collapsed": true
   },
   "outputs": [],
   "source": [
    "# PROGRAM 9: Exceptional Handaling\n",
    "# LEARNING : How to handle Exceptionals"
   ]
  },
  {
   "cell_type": "code",
   "execution_count": 39,
   "metadata": {
    "collapsed": false
   },
   "outputs": [
    {
     "name": "stdout",
     "output_type": "stream",
     "text": [
      "100/ -5  -->  -20.0\n",
      "100/ -4  -->  -25.0\n",
      "100/ -3  -->  -33.333333333333336\n",
      "100/ -2  -->  -50.0\n",
      "100/ -1  -->  -100.0\n"
     ]
    },
    {
     "ename": "ZeroDivisionError",
     "evalue": "division by zero",
     "output_type": "error",
     "traceback": [
      "\u001b[1;31m---------------------------------------------------------------------------\u001b[0m",
      "\u001b[1;31mZeroDivisionError\u001b[0m                         Traceback (most recent call last)",
      "\u001b[1;32m<ipython-input-39-84f19bfb98ef>\u001b[0m in \u001b[0;36m<module>\u001b[1;34m()\u001b[0m\n\u001b[0;32m      3\u001b[0m \u001b[1;31m#------------------------------------------------------------------------\u001b[0m\u001b[1;33m\u001b[0m\u001b[1;33m\u001b[0m\u001b[0m\n\u001b[0;32m      4\u001b[0m \u001b[1;32mfor\u001b[0m \u001b[0mi\u001b[0m \u001b[1;32min\u001b[0m \u001b[0mrange\u001b[0m\u001b[1;33m(\u001b[0m\u001b[1;33m-\u001b[0m\u001b[1;36m5\u001b[0m\u001b[1;33m,\u001b[0m\u001b[1;36m6\u001b[0m\u001b[1;33m)\u001b[0m\u001b[1;33m:\u001b[0m\u001b[1;33m\u001b[0m\u001b[0m\n\u001b[1;32m----> 5\u001b[1;33m         \u001b[0mprint\u001b[0m \u001b[1;33m(\u001b[0m\u001b[1;34m\"100/\"\u001b[0m\u001b[1;33m,\u001b[0m\u001b[0mi\u001b[0m\u001b[1;33m,\u001b[0m\u001b[1;34m\" --> \"\u001b[0m\u001b[1;33m,\u001b[0m \u001b[1;36m100\u001b[0m\u001b[1;33m/\u001b[0m\u001b[0mi\u001b[0m\u001b[1;33m)\u001b[0m\u001b[1;33m\u001b[0m\u001b[0m\n\u001b[0m\u001b[0;32m      6\u001b[0m \u001b[1;33m\u001b[0m\u001b[0m\n",
      "\u001b[1;31mZeroDivisionError\u001b[0m: division by zero"
     ]
    }
   ],
   "source": [
    "#------------------------------------------------------------------------\n",
    "# Example 9.1: Error Generation\n",
    "#------------------------------------------------------------------------\n",
    "for i in range(-5,6):\n",
    "\tprint (\"100/\",i,\" --> \", 100/i)\n",
    "\n"
   ]
  },
  {
   "cell_type": "code",
   "execution_count": 40,
   "metadata": {
    "collapsed": false
   },
   "outputs": [
    {
     "name": "stdout",
     "output_type": "stream",
     "text": [
      "100/ -5  -->  -20.0\n",
      "100/ -4  -->  -25.0\n",
      "100/ -3  -->  -33.333333333333336\n",
      "100/ -2  -->  -50.0\n",
      "100/ -1  -->  -100.0\n",
      "error\n",
      "100/ 1  -->  100.0\n",
      "100/ 2  -->  50.0\n",
      "100/ 3  -->  33.333333333333336\n",
      "100/ 4  -->  25.0\n",
      "100/ 5  -->  20.0\n"
     ]
    }
   ],
   "source": [
    "#------------------------------------------------------------------------\n",
    "# Example 9.2: Exception handaling for division by zero\n",
    "#------------------------------------------------------------------------\n",
    "for i in range(-5,6):\n",
    "\ttry:\n",
    "\t\tprint (\"100/\",i,\" --> \", 100/i)\n",
    "\texcept:\n",
    "\t\tprint (\"error\")"
   ]
  },
  {
   "cell_type": "code",
   "execution_count": 41,
   "metadata": {
    "collapsed": false
   },
   "outputs": [
    {
     "name": "stdout",
     "output_type": "stream",
     "text": [
      "0  -->  1\n",
      "1  -->  2\n",
      "2  -->  3\n",
      "3  -->  4\n",
      "4  -->  5\n",
      "error\n",
      "error\n",
      "error\n"
     ]
    }
   ],
   "source": [
    "#------------------------------------------------------------------------\n",
    "# Example 9.3: Exception handaling for array out of index\n",
    "#------------------------------------------------------------------------\n",
    "L=[1,2,3,4,5]\n",
    "\n",
    "for i in range(8):\n",
    "\ttry:\n",
    "\t\tprint (i,\" --> \",L[i])\n",
    "\texcept:\n",
    "\t\tprint (\"error\")"
   ]
  },
  {
   "cell_type": "code",
   "execution_count": 43,
   "metadata": {
    "collapsed": false
   },
   "outputs": [
    {
     "name": "stdout",
     "output_type": "stream",
     "text": [
      "Enter File Name: titanic.csv\n",
      "Done\n"
     ]
    }
   ],
   "source": [
    "#------------------------------------------------------------------------\n",
    "# Example 9.4: Exception handaling for file not found\n",
    "#------------------------------------------------------------------------\n",
    "fileName=input(\"Enter File Name: \")\n",
    "fp=open(fileName)\t# Open the file in reading mode\n",
    "fp.close()\n",
    "print (\"Done\")"
   ]
  },
  {
   "cell_type": "code",
   "execution_count": 44,
   "metadata": {
    "collapsed": false
   },
   "outputs": [
    {
     "name": "stdout",
     "output_type": "stream",
     "text": [
      "Enter File Name: titanic.csv\n",
      "Done\n"
     ]
    }
   ],
   "source": [
    "#------------------------------------------------------------------------\n",
    "# Example 9.5: Exception handaling for file not found\n",
    "#------------------------------------------------------------------------\n",
    "fileName=input(\"Enter File Name: \")\n",
    "try:\n",
    "\tfp=open(fileName)\t# Open the file in reading mode\n",
    "\tfp.close()\n",
    "except:\n",
    "\tprint (\"Error !! File Not Found\")\n",
    "\n",
    "print (\"Done\")\n"
   ]
  },
  {
   "cell_type": "code",
   "execution_count": 45,
   "metadata": {
    "collapsed": true
   },
   "outputs": [],
   "source": [
    "# PROGRAM 10: Random Numbers/String\n",
    "# LEARNING : Generate Random Numbers/String"
   ]
  },
  {
   "cell_type": "code",
   "execution_count": 46,
   "metadata": {
    "collapsed": false
   },
   "outputs": [
    {
     "name": "stdout",
     "output_type": "stream",
     "text": [
      "0.6419933743837071\n",
      "0.20970043289379825\n",
      "0.5333821111095255\n"
     ]
    }
   ],
   "source": [
    "#------------------------------------------------------------------------\n",
    "# Example 10.1: Generate random number between 0 and 1\n",
    "#------------------------------------------------------------------------\n",
    "import random as r\n",
    "print (r.random())\n",
    "print (r.random())\n",
    "print (r.random())"
   ]
  },
  {
   "cell_type": "code",
   "execution_count": 47,
   "metadata": {
    "collapsed": false
   },
   "outputs": [
    {
     "name": "stdout",
     "output_type": "stream",
     "text": [
      "98\n",
      "89\n",
      "70\n",
      "-1\n",
      "10\n",
      "10\n"
     ]
    }
   ],
   "source": [
    "#------------------------------------------------------------------------\n",
    "# Example 10.2: Generate random integer number\n",
    "#------------------------------------------------------------------------\n",
    "import random as r\n",
    "print (r.randint(1, 100))\n",
    "print (r.randint(1, 100))\n",
    "print (r.randint(1, 100))\n",
    "print (r.randint(-10, 10))\n",
    "print (r.randint(-10, 10))\n",
    "print (r.randint(-10, 10))"
   ]
  },
  {
   "cell_type": "code",
   "execution_count": 48,
   "metadata": {
    "collapsed": false
   },
   "outputs": [
    {
     "name": "stdout",
     "output_type": "stream",
     "text": [
      "69.44850025469066\n",
      "25.422776080931584\n",
      "55.99045607958508\n",
      "-9.060382859897306\n",
      "1.8889219011662632\n",
      "-0.7498745511587224\n"
     ]
    }
   ],
   "source": [
    "#------------------------------------------------------------------------\n",
    "# Example 10.3: Generate random real number\n",
    "#------------------------------------------------------------------------\n",
    "import random as r\n",
    "print (r.uniform(1, 100))\n",
    "print (r.uniform(1, 100))\n",
    "print (r.uniform(1, 100))\n",
    "print (r.uniform (-10, 10))\n",
    "print (r.uniform (-10, 10))\n",
    "print (r.uniform (-10, 10))"
   ]
  },
  {
   "cell_type": "code",
   "execution_count": 49,
   "metadata": {
    "collapsed": false
   },
   "outputs": [
    {
     "name": "stdout",
     "output_type": "stream",
     "text": [
      "[2, 7, 1, 3]\n",
      "[10, 8]\n",
      "[49, 35]\n",
      "[71, 31, 14, 38, 29]\n"
     ]
    }
   ],
   "source": [
    "#------------------------------------------------------------------------\n",
    "# Example 10.4: Generate sample from a list of elements\n",
    "#------------------------------------------------------------------------\n",
    "import random as r\n",
    "A=[1, 2, 3, 4, 5, 6, 7, 8, 9, 10]\n",
    "print (r.sample(A, 4))\n",
    "print (r.sample(A, 2))\n",
    "print (r.sample(range(1,90), 2))\n",
    "print (r.sample(range(1,90), 5))"
   ]
  },
  {
   "cell_type": "code",
   "execution_count": 50,
   "metadata": {
    "collapsed": false
   },
   "outputs": [
    {
     "name": "stdout",
     "output_type": "stream",
     "text": [
      "String -->  abcdefghijklmnopqrstuvwxyzABCDEFGHIJKLMNOPQRSTUVWXYZ\n",
      "passwd 1 -->  pkbrV\n",
      "passwd 2 -->  NutbJD\n",
      "passwd 3 -->  dtgnsxXj\n"
     ]
    }
   ],
   "source": [
    "#------------------------------------------------------------------------\n",
    "# Example 10.5: Generate random string\n",
    "#------------------------------------------------------------------------\n",
    "import string as s\n",
    "import random as r\n",
    "print (\"String --> \",s.ascii_letters)\n",
    "\n",
    "passwd=r.sample(s.ascii_letters, 5)\n",
    "passwd=\"\".join(passwd)\n",
    "print (\"passwd 1 --> \",passwd)\n",
    "\n",
    "passwd=r.sample(s.ascii_letters, 6)\n",
    "passwd=\"\".join(passwd)\n",
    "print (\"passwd 2 --> \",passwd)\n",
    "\n",
    "passwd=r.sample(s.ascii_letters, 8)\n",
    "passwd=\"\".join(passwd)\n",
    "print (\"passwd 3 --> \",passwd)\n"
   ]
  },
  {
   "cell_type": "code",
   "execution_count": 51,
   "metadata": {
    "collapsed": false
   },
   "outputs": [
    {
     "name": "stdout",
     "output_type": "stream",
     "text": [
      "Digits -->  0123456789\n",
      "otp 1 -->  96271\n",
      "otp 2 -->  32576\n",
      "otp 3 -->  91657\n"
     ]
    }
   ],
   "source": [
    "#------------------------------------------------------------------------\n",
    "# Example 10.6: Generate random digits\n",
    "#------------------------------------------------------------------------\n",
    "import string as s\n",
    "import random as r\n",
    "print (\"Digits --> \",s.digits)\n",
    "\n",
    "otp=r.sample(s.digits, 5)\n",
    "otp=\"\".join(otp)\n",
    "print (\"otp 1 --> \",otp)\n",
    "\n",
    "otp=r.sample(s.digits, 5)\n",
    "otp=\"\".join(otp)\n",
    "print (\"otp 2 --> \",otp)\n",
    "\n",
    "otp=r.sample(s.digits, 5)\n",
    "otp=\"\".join(otp)\n",
    "print (\"otp 3 --> \",otp)"
   ]
  },
  {
   "cell_type": "code",
   "execution_count": 52,
   "metadata": {
    "collapsed": false
   },
   "outputs": [
    {
     "name": "stdout",
     "output_type": "stream",
     "text": [
      "String + Digits-->  abcdefghijklmnopqrstuvwxyzABCDEFGHIJKLMNOPQRSTUVWXYZ0123456789\n",
      "mixPasswd 1 -->  3IA81Dih\n",
      "mixPasswd 2 -->  LSoDhlxs50\n",
      "mixPasswd 3 -->  NbtogqSvxBjI\n"
     ]
    }
   ],
   "source": [
    "#------------------------------------------------------------------------\n",
    "# Example 10.7: Generate random string + digits\n",
    "#------------------------------------------------------------------------\n",
    "import string as s\n",
    "import random as r\n",
    "print (\"String + Digits--> \",s.ascii_letters + s.digits)\n",
    "\n",
    "mixPasswd=r.sample(s.ascii_letters + s.digits, 8)\n",
    "mixPasswd=\"\".join(mixPasswd)\n",
    "print (\"mixPasswd 1 --> \",mixPasswd)\n",
    "\n",
    "mixPasswd=r.sample(s.ascii_letters + s.digits, 10)\n",
    "mixPasswd=\"\".join(mixPasswd)\n",
    "print (\"mixPasswd 2 --> \",mixPasswd)\n",
    "\n",
    "mixPasswd=r.sample(s.ascii_letters + s.digits, 12)\n",
    "mixPasswd=\"\".join(mixPasswd)\n",
    "print (\"mixPasswd 3 --> \",mixPasswd)\n"
   ]
  },
  {
   "cell_type": "code",
   "execution_count": 53,
   "metadata": {
    "collapsed": true
   },
   "outputs": [],
   "source": [
    "# PROGRAM 11: Demo of Data Structure - List\n",
    "# LEARNING : How to use list, add, delete, search in list\n",
    "#            List indexing starts from 0 to n-1\n",
    "# NOTE     : Read more about list and try yourself"
   ]
  },
  {
   "cell_type": "code",
   "execution_count": 54,
   "metadata": {
    "collapsed": false
   },
   "outputs": [
    {
     "name": "stdout",
     "output_type": "stream",
     "text": [
      "Original List:  ['Pratham', 'Sharma', 3.14, 3]\n",
      "Number of elements in list:  4\n"
     ]
    }
   ],
   "source": [
    "#------------------------------------------------------------------------\n",
    "# Example 11.1: List Decleration\n",
    "#------------------------------------------------------------------------\n",
    "L = [\"Pratham\",  'Sharma', 3.14,  3 ]\n",
    "print (\"Original List: \", L)\n",
    "print (\"Number of elements in list: \", len(L))"
   ]
  },
  {
   "cell_type": "code",
   "execution_count": 55,
   "metadata": {
    "collapsed": false
   },
   "outputs": [
    {
     "name": "stdout",
     "output_type": "stream",
     "text": [
      "Original List:  ['Pratham', 'Sharma', 3.14, 3]\n",
      "Pratham\n",
      "Sharma\n",
      "3.14\n",
      "3\n"
     ]
    }
   ],
   "source": [
    "#------------------------------------------------------------------------\n",
    "# Example 11.2: List Iteration\n",
    "#------------------------------------------------------------------------\n",
    "L = [\"Pratham\",  'Sharma', 3.14,  3 ]\n",
    "print (\"Original List: \", L)\n",
    "i=0\n",
    "while i < len(L): \n",
    "\tprint (L[i])\n",
    "\ti+=1"
   ]
  },
  {
   "cell_type": "code",
   "execution_count": 56,
   "metadata": {
    "collapsed": false
   },
   "outputs": [
    {
     "name": "stdout",
     "output_type": "stream",
     "text": [
      "Original List:  ['Pratham', 'Sharma', 3.14, 3]\n",
      "Pratham\n",
      "Sharma\n",
      "3.14\n",
      "3\n"
     ]
    }
   ],
   "source": [
    "#------------------------------------------------------------------------\n",
    "# Example 11.3: List Iteration using for loop\n",
    "#------------------------------------------------------------------------\n",
    "L = [\"Pratham\",  'Sharma', 3.14,  3 ]\n",
    "print (\"Original List: \", L)\n",
    "for i in range(0, len(L)):\n",
    "\tprint (L[i])\n"
   ]
  },
  {
   "cell_type": "code",
   "execution_count": 57,
   "metadata": {
    "collapsed": false
   },
   "outputs": [
    {
     "name": "stdout",
     "output_type": "stream",
     "text": [
      "Original List -->  ['Pratham', 'Sharma', 3.14, 3]\n",
      "Pratham\n",
      "Sharma\n",
      "3.14\n",
      "3\n"
     ]
    }
   ],
   "source": [
    "#------------------------------------------------------------------------\n",
    "# Example 11.4: List Iteration using for loop\n",
    "#------------------------------------------------------------------------\n",
    "L = [\"Pratham\",  'Sharma', 3.14,  3 ]\n",
    "print (\"Original List --> \", L)\n",
    "for s in L:\n",
    "\tprint (s)\n"
   ]
  },
  {
   "cell_type": "code",
   "execution_count": 58,
   "metadata": {
    "collapsed": false
   },
   "outputs": [
    {
     "name": "stdout",
     "output_type": "stream",
     "text": [
      "Original List -->  ['Pratham', 'Sharma', 3.14, 3]\n",
      "List After Adding -->  ['Pratham', 'Sharma', 3.14, 3, 'Rahul']\n",
      "List After Deleting -->  ['Pratham', 3.14, 3, 'Rahul']\n"
     ]
    }
   ],
   "source": [
    "#------------------------------------------------------------------------\n",
    "# Example 11.5 : Adding and deleting from list\n",
    "#------------------------------------------------------------------------\n",
    "L = [\"Pratham\",  'Sharma', 3.14,  3 ]\n",
    "print (\"Original List --> \", L)\n",
    "L.append(\"Rahul\")\n",
    "print (\"List After Adding --> \", L)\n",
    "del L[1]\n",
    "print (\"List After Deleting --> \", L)\n"
   ]
  },
  {
   "cell_type": "code",
   "execution_count": 59,
   "metadata": {
    "collapsed": false
   },
   "outputs": [
    {
     "name": "stdout",
     "output_type": "stream",
     "text": [
      "Original List -->  [3, 6, 9, 12, 5, 3, 2]\n",
      "Sum -->  40\n",
      "Average -->  5.714285714285714\n",
      "L * 3 -->  [3, 6, 9, 12, 5, 3, 2, 3, 6, 9, 12, 5, 3, 2, 3, 6, 9, 12, 5, 3, 2]\n",
      "L + L -->  [3, 6, 9, 12, 5, 3, 2, 3, 6, 9, 12, 5, 3, 2]\n"
     ]
    }
   ],
   "source": [
    "#------------------------------------------------------------------------\n",
    "# Example 11.6 : Sum/Average of List\n",
    "#------------------------------------------------------------------------\n",
    "L=[3, 6, 9, 12, 5, 3, 2]\n",
    "print (\"Original List --> \", L)\n",
    "print (\"Sum --> \", sum(L))\n",
    "print (\"Average --> \", sum(L)/len(L))\n",
    "print (\"L * 3 --> \", L * 3)\n",
    "print (\"L + L --> \", L + L)"
   ]
  },
  {
   "cell_type": "code",
   "execution_count": 60,
   "metadata": {
    "collapsed": false
   },
   "outputs": [
    {
     "name": "stdout",
     "output_type": "stream",
     "text": [
      "Original List -->  [3, 6, 9, 12, 5, 3, 2]\n",
      "max -->  12\n",
      "min -->  2\n",
      "Before Sort -->  [3, 6, 9, 12, 5, 3, 2]\n",
      "After Sort (Asending) -->  [2, 3, 3, 5, 6, 9, 12]\n",
      "After Sort (Desending) -->  [12, 9, 6, 5, 3, 3, 2]\n"
     ]
    }
   ],
   "source": [
    "#------------------------------------------------------------------------\n",
    "# Example 11.7 : Min/Max/Sort the list\n",
    "#------------------------------------------------------------------------\n",
    "L=[3, 6, 9, 12, 5, 3, 2]\n",
    "print (\"Original List --> \", L)\n",
    "print (\"max --> \", max(L))\n",
    "print (\"min --> \", min(L))\n",
    "print (\"Before Sort --> \", L)\n",
    "L.sort()\n",
    "print (\"After Sort (Asending) --> \", L)\n",
    "L.sort(reverse=True)\n",
    "print (\"After Sort (Desending) --> \", L)"
   ]
  },
  {
   "cell_type": "code",
   "execution_count": 61,
   "metadata": {
    "collapsed": false
   },
   "outputs": [
    {
     "name": "stdout",
     "output_type": "stream",
     "text": [
      "L1 -->  [3, 6, 9]\n",
      "L2 -->  [12, 5, 3, 2]\n",
      "L1 + L2 = L3 -->  [3, 6, 9, 12, 5, 3, 2]\n",
      "L3[2:] -->  [9, 12, 5, 3, 2]\n",
      "L3[2:5] -->  [9, 12, 5]\n",
      "L3[:-1] -->  [3, 6, 9, 12, 5, 3]\n",
      "L3[::2] -->  [3, 9, 5, 2]\n"
     ]
    }
   ],
   "source": [
    "#------------------------------------------------------------------------\n",
    "# Example 11.8 : Merge lists & select elements\n",
    "#------------------------------------------------------------------------\n",
    "L1 = [3, 6, 9]\n",
    "L2 = [12, 5, 3, 2]\n",
    "L3 = L1 + L2\n",
    "print (\"L1 --> \",L1)\n",
    "print (\"L2 --> \",L2)\n",
    "print (\"L1 + L2 = L3 --> \",L3)\n",
    "print (\"L3[2:] --> \",L3[2:])\n",
    "print (\"L3[2:5] --> \",L3[2:5])\n",
    "print (\"L3[:-1] --> \",L3[:-1])\n",
    "print (\"L3[::2] --> \",L3[::2])"
   ]
  },
  {
   "cell_type": "code",
   "execution_count": 62,
   "metadata": {
    "collapsed": false
   },
   "outputs": [
    {
     "name": "stdout",
     "output_type": "stream",
     "text": [
      "Original List -->  [12, 5, 3, 2, 7]\n",
      "After Multiply with constant -->  [60, 25, 15, 10, 35]\n"
     ]
    }
   ],
   "source": [
    "#------------------------------------------------------------------------\n",
    "# Example 11.9 : Multiply all elements of list by a constant.\n",
    "#------------------------------------------------------------------------\n",
    "L = [12, 5, 3, 2, 7]\n",
    "print (\"Original List --> \", L)\n",
    "newL = [ i * 5 for i in L ]\n",
    "print (\"After Multiply with constant --> \", newL)\n"
   ]
  },
  {
   "cell_type": "code",
   "execution_count": 63,
   "metadata": {
    "collapsed": true
   },
   "outputs": [],
   "source": [
    "# PROGRAM 12: Demo of Data Structure - Dictionary\n",
    "# LEARNING  : How to use Dictionary, add, delete, search in Dictionary\n",
    "# NOTE      : Read more about Dictionary and try yourself"
   ]
  },
  {
   "cell_type": "code",
   "execution_count": 65,
   "metadata": {
    "collapsed": false
   },
   "outputs": [
    {
     "name": "stdout",
     "output_type": "stream",
     "text": [
      "Dictionary -->  {8: 5.3, 1: 8.9, 2: 5.6, 4: 6.7, 7: 9.1}\n",
      "Total dictionary contants -->  5\n",
      "CGPA of 1 -->  8.9\n",
      "CGPA of 4 -->  6.7\n",
      "CGPA of 7 -->  9.1\n"
     ]
    }
   ],
   "source": [
    "#------------------------------------------------------------------------\n",
    "# Example 12.1: Declare Dictionary\n",
    "#------------------------------------------------------------------------\n",
    "CGPA={1:8.9, 2:5.6, 4:6.7, 7:9.1, 8:5.3}\n",
    "print (\"Dictionary --> \", CGPA)\n",
    "print (\"Total dictionary contants --> \", len(CGPA))\n",
    "print (\"CGPA of 1 --> \", CGPA[1])\n",
    "print (\"CGPA of 4 --> \", CGPA[4])\n",
    "print (\"CGPA of 7 --> \", CGPA[7])"
   ]
  },
  {
   "cell_type": "code",
   "execution_count": 66,
   "metadata": {
    "collapsed": false
   },
   "outputs": [
    {
     "name": "stdout",
     "output_type": "stream",
     "text": [
      "CGPA of  8  -->  5.3\n",
      "CGPA of  1  -->  8.9\n",
      "CGPA of  2  -->  5.6\n",
      "CGPA of  4  -->  6.7\n",
      "CGPA of  7  -->  9.1\n"
     ]
    }
   ],
   "source": [
    "#------------------------------------------------------------------------\n",
    "# Example 12.2: Triverse dictionary\n",
    "#------------------------------------------------------------------------\n",
    "CGPA={1:8.9, 2:5.6, 4:6.7, 7:9.1, 8:5.3}\n",
    "for k in CGPA:\n",
    "\tprint (\"CGPA of \", k, \" --> \", CGPA[k])"
   ]
  },
  {
   "cell_type": "code",
   "execution_count": 67,
   "metadata": {
    "collapsed": false
   },
   "outputs": [
    {
     "name": "stdout",
     "output_type": "stream",
     "text": [
      "Dictionary -->  {8: 5.3, 1: 8.9, 2: 5.6, 4: 6.7, 7: 9.1}\n",
      "Keys -->  dict_keys([8, 1, 2, 4, 7])\n",
      "Values -->  dict_values([5.3, 8.9, 5.6, 6.7, 9.1])\n"
     ]
    }
   ],
   "source": [
    "#------------------------------------------------------------------------\n",
    "# Example 12.3: Getting Keys and Values\n",
    "#------------------------------------------------------------------------\n",
    "CGPA={1:8.9, 2:5.6, 4:6.7, 7:9.1, 8:5.3}\n",
    "print (\"Dictionary --> \", CGPA)\n",
    "print (\"Keys --> \", CGPA.keys())\n",
    "print (\"Values --> \", CGPA.values())"
   ]
  },
  {
   "cell_type": "code",
   "execution_count": 69,
   "metadata": {
    "collapsed": false
   },
   "outputs": [
    {
     "name": "stdout",
     "output_type": "stream",
     "text": [
      "Original Dictionary -->  {8: 5.3, 1: 8.9, 2: 5.6, 4: 6.7, 7: 9.1}\n",
      "Dictionary After Updating (4) -->  {8: 5.3, 1: 8.9, 2: 5.6, 4: 9.2, 7: 9.1}\n",
      "Dictionary After Adding (3) -->  {1: 8.9, 2: 5.6, 3: 8.6, 4: 9.2, 7: 9.1, 8: 5.3}\n",
      "Dictionary After Deleting (1) -->  {2: 5.6, 3: 8.6, 4: 9.2, 7: 9.1, 8: 5.3}\n",
      "Dictionary after clear -->  {}\n"
     ]
    }
   ],
   "source": [
    "#------------------------------------------------------------------------\n",
    "# Example 12.4 : Updating, Adding and Deleting from Dictionary\n",
    "#------------------------------------------------------------------------\n",
    "CGPA={1:8.9,2:5.6,4:6.7,7:9.1,8:5.3}\n",
    "print (\"Original Dictionary --> \", CGPA)\n",
    "CGPA[4] = 9.2\n",
    "print (\"Dictionary After Updating (4) --> \", CGPA)\n",
    "CGPA[3] = 8.6\n",
    "print (\"Dictionary After Adding (3) --> \", CGPA)\n",
    "del CGPA[1]\n",
    "print (\"Dictionary After Deleting (1) --> \", CGPA)\n",
    "CGPA.clear()\n",
    "print (\"Dictionary after clear --> \", CGPA)\n"
   ]
  },
  {
   "cell_type": "code",
   "execution_count": 70,
   "metadata": {
    "collapsed": false
   },
   "outputs": [
    {
     "name": "stdout",
     "output_type": "stream",
     "text": [
      "Original Dictionary -->  {'Pankaj': 'Agra', 'Prashant': 'Delhi', 'Anil': 'Morena', 'Govind': 'Gwalior'}\n",
      "Home Town of Prashant is -->  Delhi\n",
      "Home Town of Govind is -->  Gwalior\n",
      "Home Town of Anil is -->  Morena\n",
      "Home Town of Pankaj is -->  Agra\n"
     ]
    }
   ],
   "source": [
    "#------------------------------------------------------------------------\n",
    "# Example 12.6\n",
    "#------------------------------------------------------------------------\n",
    "HomeTown={\"Prashant\":\"Delhi\", \"Govind\":\"Gwalior\", \"Anil\":\"Morena\", \"Pankaj\":\"Agra\"}\n",
    "print (\"Original Dictionary --> \", HomeTown)\n",
    "print (\"Home Town of Prashant is --> \", HomeTown[\"Prashant\"])\n",
    "print (\"Home Town of Govind is --> \", HomeTown[\"Govind\"])\n",
    "print (\"Home Town of Anil is --> \", HomeTown[\"Anil\"])\n",
    "print (\"Home Town of Pankaj is --> \", HomeTown[\"Pankaj\"])"
   ]
  },
  {
   "cell_type": "code",
   "execution_count": 71,
   "metadata": {
    "collapsed": false
   },
   "outputs": [
    {
     "name": "stdout",
     "output_type": "stream",
     "text": [
      "Original Dictionary -->  {'Pankaj': 'Agra', 'Prashant': 'Delhi', 'Anil': 'Morena', 'Govind': 'Gwalior'}\n",
      "Home Town of  Pankaj  is  -->  Agra\n",
      "Home Town of  Prashant  is  -->  Delhi\n",
      "Home Town of  Anil  is  -->  Morena\n",
      "Home Town of  Govind  is  -->  Gwalior\n"
     ]
    }
   ],
   "source": [
    "#------------------------------------------------------------------------\n",
    "# Example 12.7\n",
    "#------------------------------------------------------------------------\n",
    "HomeTown={\"Prashant\":\"Delhi\", \"Govind\":\"Gwalior\", \"Anil\":\"Morena\", \"Pankaj\":\"Agra\"}\n",
    "print (\"Original Dictionary --> \", HomeTown)\n",
    "\n",
    "for d in HomeTown:\n",
    "\tprint (\"Home Town of \", d, \" is  --> \", HomeTown[d])"
   ]
  },
  {
   "cell_type": "code",
   "execution_count": 72,
   "metadata": {
    "collapsed": true
   },
   "outputs": [],
   "source": [
    "# PROGRAM 14: Demo of Data Structure - Set\n",
    "# LEARNING  : How to use Set, add, delete, search in Set"
   ]
  },
  {
   "cell_type": "code",
   "execution_count": 73,
   "metadata": {
    "collapsed": false
   },
   "outputs": [
    {
     "name": "stdout",
     "output_type": "stream",
     "text": [
      "Original set -->  {'A', 'E', 'F', 'B'}\n",
      "Number of elements in set -->  4\n"
     ]
    }
   ],
   "source": [
    "#------------------------------------------------------------------------\n",
    "# Example 14.1\n",
    "#------------------------------------------------------------------------\n",
    "s = set(['A', 'B', 'E', 'F','E', 'F' ])\n",
    "print (\"Original set --> \", s)\n",
    "print (\"Number of elements in set --> \", len(s))"
   ]
  },
  {
   "cell_type": "code",
   "execution_count": 74,
   "metadata": {
    "collapsed": false
   },
   "outputs": [
    {
     "name": "stdout",
     "output_type": "stream",
     "text": [
      "Original set a -->  {'A', 'E', 'F', 'B'}\n",
      "Original set b -->  {'A', 'D', 'C', 'E'}\n",
      "Union of a and b -->  {'C', 'E', 'B', 'A', 'D', 'F'}\n",
      "Intersection of a and b -->  {'A', 'E'}\n",
      "Difference a - b -->  {'F', 'B'}\n",
      "Difference a - b -->  {'F', 'B'}\n",
      "Difference b - a -->  {'D', 'C'}\n",
      "Difference b - a -->  {'D', 'C'}\n",
      "Symetric Difference a - b -->  {'D', 'C', 'F', 'B'}\n",
      "Symetric Difference b - a -->  {'C', 'B', 'D', 'F'}\n"
     ]
    }
   ],
   "source": [
    "#------------------------------------------------------------------------\n",
    "# Example 14.2: Opertions on Sets\n",
    "#------------------------------------------------------------------------\n",
    "a = set(['A', 'B', 'E', 'F' ])\n",
    "b = set([\"A\", \"C\", \"D\", \"E\"])\n",
    "print (\"Original set a --> \", a)\n",
    "print (\"Original set b --> \", b)\n",
    "print (\"Union of a and b --> \", a.union(b))\n",
    "print (\"Intersection of a and b --> \", a.intersection(b))\n",
    "print (\"Difference a - b --> \", a - b)\n",
    "print (\"Difference a - b --> \", a.difference(b))\n",
    "print (\"Difference b - a --> \", b - a)\n",
    "print (\"Difference b - a --> \", b.difference(a))\n",
    "print (\"Symetric Difference a - b --> \", a.symmetric_difference(b))\n",
    "print (\"Symetric Difference b - a --> \", b.symmetric_difference(a))"
   ]
  },
  {
   "cell_type": "code",
   "execution_count": 75,
   "metadata": {
    "collapsed": false
   },
   "outputs": [
    {
     "name": "stdout",
     "output_type": "stream",
     "text": [
      "Original set a -->  {'A', 'E', 'F', 'B'}\n",
      "Set After Adding (D) -->  {'A', 'E', 'F', 'B', 'D'}\n",
      "Set After Adding (D) -->  {'A', 'E', 'F', 'B', 'D'}\n",
      "Set After Deleting (D) -->  {'A', 'E', 'F', 'B'}\n",
      "Set After pop -->  {'E', 'F', 'B'}\n"
     ]
    }
   ],
   "source": [
    "#------------------------------------------------------------------------\n",
    "# Example 14.3: Add, delete, pop element from set\n",
    "#------------------------------------------------------------------------\n",
    "a = set(['A', 'B', 'E', 'F' ])\n",
    "print (\"Original set a --> \", a)\n",
    "a.add(\"D\")\n",
    "print (\"Set After Adding (D) --> \", a)\n",
    "a.add(\"D\")\n",
    "print (\"Set After Adding (D) --> \", a)\n",
    "a.remove(\"D\")\n",
    "print (\"Set After Deleting (D) --> \", a)\n",
    "a.pop()\n",
    "print (\"Set After pop --> \", a)"
   ]
  },
  {
   "cell_type": "code",
   "execution_count": 76,
   "metadata": {
    "collapsed": true
   },
   "outputs": [],
   "source": [
    "# PROGRAM 15: Command Line Argument\n",
    "# LEARNING  : How to Take input from command line and process it\n",
    "# NOTE      : To Run the PROGRAM - $ python Program.py 10 20"
   ]
  },
  {
   "cell_type": "code",
   "execution_count": 84,
   "metadata": {
    "collapsed": false
   },
   "outputs": [
    {
     "name": "stdout",
     "output_type": "stream",
     "text": [
      "['C:\\\\Users\\\\INTEL\\\\Anaconda3\\\\envs\\\\tensorenv\\\\lib\\\\site-packages\\\\ipykernel_launcher.py', '-f', 'C:\\\\Users\\\\INTEL\\\\AppData\\\\Roaming\\\\jupyter\\\\runtime\\\\kernel-4622b47b-b72c-4bf0-b259-25fa3be54303.json']\n",
      "-f  +  C:\\Users\\INTEL\\AppData\\Roaming\\jupyter\\runtime\\kernel-4622b47b-b72c-4bf0-b259-25fa3be54303.json  -->  -f C:\\Users\\INTEL\\AppData\\Roaming\\jupyter\\runtime\\kernel-4622b47b-b72c-4bf0-b259-25fa3be54303.json\n"
     ]
    }
   ],
   "source": [
    "#------------------------------------------------------------------------\n",
    "# Example 15.2: Concatinate two strings given at cmd line\n",
    "# NOTE      : To Run the PROGRAM - $ python Program.py Sample String\n",
    "#------------------------------------------------------------------------\n",
    "import sys\n",
    "print (sys.argv)\n",
    "s = sys.argv[1] + \" \" + sys.argv[2]\n",
    "print (sys.argv[1], \" + \", sys.argv[2], \" --> \", s)"
   ]
  },
  {
   "cell_type": "code",
   "execution_count": 86,
   "metadata": {
    "collapsed": false
   },
   "outputs": [
    {
     "name": "stdout",
     "output_type": "stream",
     "text": [
      "['C:\\\\Users\\\\INTEL\\\\Anaconda3\\\\envs\\\\tensorenv\\\\lib\\\\site-packages\\\\ipykernel_launcher.py', '-f', 'C:\\\\Users\\\\INTEL\\\\AppData\\\\Roaming\\\\jupyter\\\\runtime\\\\kernel-4622b47b-b72c-4bf0-b259-25fa3be54303.json']\n",
      "Concatinated Strings are -->  -f C:\\Users\\INTEL\\AppData\\Roaming\\jupyter\\runtime\\kernel-4622b47b-b72c-4bf0-b259-25fa3be54303.json \n"
     ]
    }
   ],
   "source": [
    "#------------------------------------------------------------------------\n",
    "# Example 15.4: Concatinate all strings given at cmd line\n",
    "# NOTE      : To Run the PROGRAM - $ python Program.py 10 20\n",
    "#------------------------------------------------------------------------\n",
    "import sys\n",
    "print (sys.argv)\n",
    "s=\"\"\n",
    "for a in sys.argv[1:]:\n",
    "\ts = s + a + \" \"\n",
    "\n",
    "print (\"Concatinated Strings are --> \", s)\n"
   ]
  },
  {
   "cell_type": "code",
   "execution_count": 87,
   "metadata": {
    "collapsed": true
   },
   "outputs": [],
   "source": [
    "# PROGRAM 16: File Handling \n",
    "# LEARNING  : How to open the file, how to read line by line"
   ]
  },
  {
   "cell_type": "code",
   "execution_count": 89,
   "metadata": {
    "collapsed": false
   },
   "outputs": [
    {
     "name": "stdout",
     "output_type": "stream",
     "text": [
      "Writing done !! \n",
      "Open result.txt to view the content\n"
     ]
    }
   ],
   "source": [
    "#------------------------------------------------------------------------\n",
    "# Example 16.2: Writing 1 to 10 in file\n",
    "#------------------------------------------------------------------------\n",
    "fp=open('result.txt','w')\t# Open the file in writing mode\n",
    "for  i in range(1,11):\n",
    "\tfp.write(str(i) + \"\\n\")\t# Writing to the file line by line\n",
    "fp.close()\n",
    "\n",
    "print (\"Writing done !! \\nOpen result.txt to view the content\")"
   ]
  },
  {
   "cell_type": "code",
   "execution_count": null,
   "metadata": {
    "collapsed": true
   },
   "outputs": [],
   "source": []
  }
 ],
 "metadata": {
  "kernelspec": {
   "display_name": "Python 3",
   "language": "python",
   "name": "python3"
  },
  "language_info": {
   "codemirror_mode": {
    "name": "ipython",
    "version": 3
   },
   "file_extension": ".py",
   "mimetype": "text/x-python",
   "name": "python",
   "nbconvert_exporter": "python",
   "pygments_lexer": "ipython3",
   "version": "3.5.6"
  }
 },
 "nbformat": 4,
 "nbformat_minor": 2
}
